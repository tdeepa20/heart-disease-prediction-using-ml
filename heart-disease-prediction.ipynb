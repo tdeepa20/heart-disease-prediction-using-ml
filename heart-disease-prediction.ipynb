{
 "cells": [
  {
   "cell_type": "markdown",
   "id": "d4df3a22-8aa8-497c-965b-bfda1a2405ee",
   "metadata": {},
   "source": [
    "# Heart Disease prediction"
   ]
  },
  {
   "cell_type": "markdown",
   "id": "cbc08bd2-854d-4de3-92ef-d1688efaa44b",
   "metadata": {},
   "source": [
    "## Importing essential libraries"
   ]
  },
  {
   "cell_type": "code",
   "execution_count": 59,
   "id": "ce761078-1550-4b54-8b25-a3094398388c",
   "metadata": {},
   "outputs": [
    {
     "name": "stdout",
     "output_type": "stream",
     "text": [
      "['.ipynb_checkpoints', 'Bar_chart_examples.ipynb', 'Dataframe_examples.ipynb', 'Feature vs Target.png', 'heart-disease-prediction.ipynb', 'heart.csv', 'line_chart_examples.ipynb', 'outliers_boxplots.png', 'performance.png', 'series_examples.ipynb', 'skewness.png', 'Stacked_barchart_examples.ipynb', 'target_distribution.png', 'train_test_split_vertical.png']\n"
     ]
    }
   ],
   "source": [
    "import pandas as pd\n",
    "import numpy as np\n",
    "import seaborn as sns\n",
    "import matplotlib.pyplot as plt\n",
    "import sklearn\n",
    "\n",
    "%matplotlib inline\n",
    "\n",
    "import os\n",
    "print(os.listdir())\n",
    "\n",
    "import warnings\n",
    "warnings.filterwarnings(\"ignore\")"
   ]
  },
  {
   "attachments": {},
   "cell_type": "markdown",
   "id": "0cc465a5-38ed-46b0-8935-42777ec8a429",
   "metadata": {},
   "source": [
    "##  1.Data Collection and Analyze data"
   ]
  },
  {
   "cell_type": "code",
   "execution_count": 60,
   "id": "a55a6568-9533-49e4-8cd2-0867fa38ecac",
   "metadata": {},
   "outputs": [],
   "source": [
    "data= pd.read_csv(\"heart.csv\")"
   ]
  },
  {
   "cell_type": "code",
   "execution_count": 61,
   "id": "2ab5cd4b-7a8d-4fc2-868c-1f65eae9aaf1",
   "metadata": {},
   "outputs": [
    {
     "data": {
      "text/plain": [
       "pandas.core.frame.DataFrame"
      ]
     },
     "execution_count": 61,
     "metadata": {},
     "output_type": "execute_result"
    }
   ],
   "source": [
    "type(data)"
   ]
  },
  {
   "cell_type": "code",
   "execution_count": 62,
   "id": "5008d529-2105-4d5b-a714-bbea955303ab",
   "metadata": {},
   "outputs": [
    {
     "data": {
      "text/plain": [
       "(303, 14)"
      ]
     },
     "execution_count": 62,
     "metadata": {},
     "output_type": "execute_result"
    }
   ],
   "source": [
    "data.shape"
   ]
  },
  {
   "cell_type": "code",
   "execution_count": 63,
   "id": "c74287f9-58aa-4151-9032-3c0a0cb3bd5f",
   "metadata": {},
   "outputs": [
    {
     "data": {
      "text/html": [
       "<div>\n",
       "<style scoped>\n",
       "    .dataframe tbody tr th:only-of-type {\n",
       "        vertical-align: middle;\n",
       "    }\n",
       "\n",
       "    .dataframe tbody tr th {\n",
       "        vertical-align: top;\n",
       "    }\n",
       "\n",
       "    .dataframe thead th {\n",
       "        text-align: right;\n",
       "    }\n",
       "</style>\n",
       "<table border=\"1\" class=\"dataframe\">\n",
       "  <thead>\n",
       "    <tr style=\"text-align: right;\">\n",
       "      <th></th>\n",
       "      <th>age</th>\n",
       "      <th>sex</th>\n",
       "      <th>cp</th>\n",
       "      <th>trestbps</th>\n",
       "      <th>chol</th>\n",
       "      <th>fbs</th>\n",
       "      <th>restecg</th>\n",
       "      <th>thalach</th>\n",
       "      <th>exang</th>\n",
       "      <th>oldpeak</th>\n",
       "      <th>slope</th>\n",
       "      <th>ca</th>\n",
       "      <th>thal</th>\n",
       "      <th>target</th>\n",
       "    </tr>\n",
       "  </thead>\n",
       "  <tbody>\n",
       "    <tr>\n",
       "      <th>0</th>\n",
       "      <td>63</td>\n",
       "      <td>1</td>\n",
       "      <td>3</td>\n",
       "      <td>145</td>\n",
       "      <td>233</td>\n",
       "      <td>1</td>\n",
       "      <td>0</td>\n",
       "      <td>150</td>\n",
       "      <td>0</td>\n",
       "      <td>2.3</td>\n",
       "      <td>0</td>\n",
       "      <td>0</td>\n",
       "      <td>1</td>\n",
       "      <td>1</td>\n",
       "    </tr>\n",
       "    <tr>\n",
       "      <th>1</th>\n",
       "      <td>37</td>\n",
       "      <td>1</td>\n",
       "      <td>2</td>\n",
       "      <td>130</td>\n",
       "      <td>250</td>\n",
       "      <td>0</td>\n",
       "      <td>1</td>\n",
       "      <td>187</td>\n",
       "      <td>0</td>\n",
       "      <td>3.5</td>\n",
       "      <td>0</td>\n",
       "      <td>0</td>\n",
       "      <td>2</td>\n",
       "      <td>1</td>\n",
       "    </tr>\n",
       "    <tr>\n",
       "      <th>2</th>\n",
       "      <td>41</td>\n",
       "      <td>0</td>\n",
       "      <td>1</td>\n",
       "      <td>130</td>\n",
       "      <td>204</td>\n",
       "      <td>0</td>\n",
       "      <td>0</td>\n",
       "      <td>172</td>\n",
       "      <td>0</td>\n",
       "      <td>1.4</td>\n",
       "      <td>2</td>\n",
       "      <td>0</td>\n",
       "      <td>2</td>\n",
       "      <td>1</td>\n",
       "    </tr>\n",
       "    <tr>\n",
       "      <th>3</th>\n",
       "      <td>56</td>\n",
       "      <td>1</td>\n",
       "      <td>1</td>\n",
       "      <td>120</td>\n",
       "      <td>236</td>\n",
       "      <td>0</td>\n",
       "      <td>1</td>\n",
       "      <td>178</td>\n",
       "      <td>0</td>\n",
       "      <td>0.8</td>\n",
       "      <td>2</td>\n",
       "      <td>0</td>\n",
       "      <td>2</td>\n",
       "      <td>1</td>\n",
       "    </tr>\n",
       "    <tr>\n",
       "      <th>4</th>\n",
       "      <td>57</td>\n",
       "      <td>0</td>\n",
       "      <td>0</td>\n",
       "      <td>120</td>\n",
       "      <td>354</td>\n",
       "      <td>0</td>\n",
       "      <td>1</td>\n",
       "      <td>163</td>\n",
       "      <td>1</td>\n",
       "      <td>0.6</td>\n",
       "      <td>2</td>\n",
       "      <td>0</td>\n",
       "      <td>2</td>\n",
       "      <td>1</td>\n",
       "    </tr>\n",
       "  </tbody>\n",
       "</table>\n",
       "</div>"
      ],
      "text/plain": [
       "   age  sex  cp  trestbps  chol  fbs  restecg  thalach  exang  oldpeak  slope  \\\n",
       "0   63    1   3       145   233    1        0      150      0      2.3      0   \n",
       "1   37    1   2       130   250    0        1      187      0      3.5      0   \n",
       "2   41    0   1       130   204    0        0      172      0      1.4      2   \n",
       "3   56    1   1       120   236    0        1      178      0      0.8      2   \n",
       "4   57    0   0       120   354    0        1      163      1      0.6      2   \n",
       "\n",
       "   ca  thal  target  \n",
       "0   0     1       1  \n",
       "1   0     2       1  \n",
       "2   0     2       1  \n",
       "3   0     2       1  \n",
       "4   0     2       1  "
      ]
     },
     "execution_count": 63,
     "metadata": {},
     "output_type": "execute_result"
    }
   ],
   "source": [
    "data.head()"
   ]
  },
  {
   "cell_type": "code",
   "execution_count": 64,
   "id": "7c4fbf73-26e0-4def-aed6-61261af2ce05",
   "metadata": {},
   "outputs": [
    {
     "data": {
      "text/plain": [
       "Index(['age', 'sex', 'cp', 'trestbps', 'chol', 'fbs', 'restecg', 'thalach',\n",
       "       'exang', 'oldpeak', 'slope', 'ca', 'thal', 'target'],\n",
       "      dtype='object')"
      ]
     },
     "execution_count": 64,
     "metadata": {},
     "output_type": "execute_result"
    }
   ],
   "source": [
    "data.columns"
   ]
  },
  {
   "cell_type": "markdown",
   "id": "25393d4a-1cb3-49fb-9335-ec896900007a",
   "metadata": {},
   "source": [
    "### Description of columns"
   ]
  },
  {
   "cell_type": "code",
   "execution_count": 65,
   "id": "84428106-c6d1-49e3-b625-6357b31b398e",
   "metadata": {},
   "outputs": [
    {
     "name": "stdout",
     "output_type": "stream",
     "text": [
      "age:\t\t\tage\n",
      "sex:\t\t\t1: male, 0: female\n",
      "cp:\t\t\tchest pain type, 1: typical angina, 2: atypical angina, 3: non-anginal pain, 4: asymptomatic\n",
      "trestbps:\t\t\tresting blood pressure\n",
      "chol:\t\t\t serum cholestoral in mg/dl\n",
      "fbs:\t\t\tfasting blood sugar > 120 mg/dl\n",
      "restecg:\t\t\tresting electrocardiographic results (values 0,1,2)\n",
      "thalach:\t\t\t maximum heart rate achieved\n",
      "exang:\t\t\texercise induced angina\n",
      "oldpeak:\t\t\toldpeak = ST depression induced by exercise relative to rest\n",
      "slope:\t\t\tthe slope of the peak exercise ST segment\n",
      "ca:\t\t\tnumber of major vessels (0-3) colored by flourosopy\n",
      "thal:\t\t\tthal: 3 = normal; 6 = fixed defect; 7 = reversable defect\n"
     ]
    }
   ],
   "source": [
    "info = [\"age\",\"1: male, 0: female\",\"chest pain type, 1: typical angina, 2: atypical angina, 3: non-anginal pain, 4: asymptomatic\",\"resting blood pressure\",\" serum cholestoral in mg/dl\",\"fasting blood sugar > 120 mg/dl\",\"resting electrocardiographic results (values 0,1,2)\",\" maximum heart rate achieved\",\"exercise induced angina\",\"oldpeak = ST depression induced by exercise relative to rest\",\"the slope of the peak exercise ST segment\",\"number of major vessels (0-3) colored by flourosopy\",\"thal: 3 = normal; 6 = fixed defect; 7 = reversable defect\"]\n",
    "\n",
    "\n",
    "\n",
    "for i in range(len(info)):\n",
    "    print(data.columns[i]+\":\\t\\t\\t\"+info[i])"
   ]
  },
  {
   "cell_type": "markdown",
   "id": "c4408b41-0e86-42b3-9016-49e50dda4648",
   "metadata": {},
   "source": [
    "## 2.Finding Machine Learning method"
   ]
  },
  {
   "cell_type": "markdown",
   "id": "bfe14da3-8a29-4c62-86c8-b3f0005c1216",
   "metadata": {},
   "source": [
    "Learning Type: Supervised Learning\n",
    "Reason: Target variable is present\n",
    "Subtype: Classification (because the target is categorical)"
   ]
  },
  {
   "cell_type": "code",
   "execution_count": 66,
   "id": "4a5f7152-de24-40c9-966c-5302ea36dfb4",
   "metadata": {},
   "outputs": [],
   "source": [
    "# True numeric/continuous columns\n",
    "numeric_columns = [\"age\", \"trestbps\", \"chol\", \"thalach\", \"oldpeak\"]\n",
    "\n",
    "# Categorical (discrete, encoded as numbers)\n",
    "categorical_columns = [\"sex\", \"cp\", \"fbs\", \"restecg\", \"exang\", \"slope\", \"ca\", \"thal\", \"target\"]"
   ]
  },
  {
   "cell_type": "markdown",
   "id": "a5578c6c-9d37-4dd7-acd4-a39a01eb10d2",
   "metadata": {},
   "source": [
    "# 3.Exploratory Data Analysis (EDA) "
   ]
  },
  {
   "cell_type": "markdown",
   "id": "8ba23f07-0122-4b44-9c8c-63cce1aaaf53",
   "metadata": {},
   "source": [
    "### Data Inspection/cleaning"
   ]
  },
  {
   "cell_type": "markdown",
   "id": "b01bbad7-402a-474a-8280-867c2669ec77",
   "metadata": {},
   "source": [
    "                                         ##Target variable analyze( categorical operation)"
   ]
  },
  {
   "cell_type": "markdown",
   "id": "cfd1f8c4-500a-41b3-8a7e-12541dcea1b3",
   "metadata": {},
   "source": [
    "#### Unique values & counts"
   ]
  },
  {
   "cell_type": "code",
   "execution_count": 67,
   "id": "f85af909-8998-4c0f-90ce-f2715b2784d9",
   "metadata": {},
   "outputs": [
    {
     "data": {
      "text/plain": [
       "array([1, 0])"
      ]
     },
     "execution_count": 67,
     "metadata": {},
     "output_type": "execute_result"
    }
   ],
   "source": [
    "data['target'].unique()             # No duplicates"
   ]
  },
  {
   "cell_type": "code",
   "execution_count": 68,
   "id": "3cae0d8b-5edf-42b9-913f-c4ff291dd625",
   "metadata": {
    "scrolled": true
   },
   "outputs": [
    {
     "data": {
      "text/plain": [
       "target\n",
       "1    165\n",
       "0    138\n",
       "Name: count, dtype: int64"
      ]
     },
     "execution_count": 68,
     "metadata": {},
     "output_type": "execute_result"
    }
   ],
   "source": [
    "data['target'].value_counts()         #fairly balanced (almost 55:45)No special handling is required."
   ]
  },
  {
   "cell_type": "markdown",
   "id": "3384d121-2371-4410-b328-ac30335df9ee",
   "metadata": {},
   "source": [
    "#### Class balance check"
   ]
  },
  {
   "cell_type": "code",
   "execution_count": 69,
   "id": "6f9fc8bd-3845-432a-ad8c-933e7fef1941",
   "metadata": {},
   "outputs": [
    {
     "name": "stdout",
     "output_type": "stream",
     "text": [
      "target\n",
      "1    54.455446\n",
      "0    45.544554\n",
      "Name: proportion, dtype: float64\n"
     ]
    }
   ],
   "source": [
    "percentage=data['target'].value_counts(normalize=True)*100\n",
    "print(percentage)"
   ]
  },
  {
   "cell_type": "markdown",
   "id": "c5030248-20c6-443c-a702-be5f2e571e24",
   "metadata": {},
   "source": [
    "#### visualization"
   ]
  },
  {
   "cell_type": "code",
   "execution_count": 70,
   "id": "06b929bc-d723-4880-9eec-2343f0df57d0",
   "metadata": {},
   "outputs": [
    {
     "data": {
      "image/png": "[encoded data removed]",
      "text/plain": [
       "<Figure size 640x480 with 1 Axes>"
      ]
     },
     "metadata": {},
     "output_type": "display_data"
    }
   ],
   "source": [
    "data['target'].value_counts().plot(kind='bar', color=['maroon', 'lightblue'])\n",
    "plt.title(\"Target Variable Distribution\")\n",
    "plt.xlabel(\"Target\")\n",
    "plt.ylabel(\"Count\")\n",
    "plt.savefig(\"target_distribution.png\", dpi=300, bbox_inches='tight')\n",
    "plt.show()"
   ]
  },
  {
   "cell_type": "markdown",
   "id": "f3417f92-1a11-415a-a58e-021e76827aad",
   "metadata": {},
   "source": [
    "Insights:\n",
    "The target variable has two classes (0 and 1). The distribution is approximately 54.5% for class 1 and 45.5% for class 0.\n",
    "Since the proportions are close to each other, the dataset is considered balanced."
   ]
  },
  {
   "cell_type": "markdown",
   "id": "1139370b-4fd1-4ed3-a3a5-1bebb4007b30",
   "metadata": {},
   "source": [
    "                                             ## Other columns/Feature analyze"
   ]
  },
  {
   "cell_type": "markdown",
   "id": "67b0f948-3c60-42f8-9f71-f76c7eaf5ce0",
   "metadata": {},
   "source": [
    "### Finding missing/null values and dtypes"
   ]
  },
  {
   "cell_type": "code",
   "execution_count": 71,
   "id": "6ebd3c05-2191-49c6-bb1d-ad40048c8389",
   "metadata": {},
   "outputs": [
    {
     "name": "stdout",
     "output_type": "stream",
     "text": [
      "<class 'pandas.core.frame.DataFrame'>\n",
      "RangeIndex: 303 entries, 0 to 302\n",
      "Data columns (total 14 columns):\n",
      " #   Column    Non-Null Count  Dtype  \n",
      "---  ------    --------------  -----  \n",
      " 0   age       303 non-null    int64  \n",
      " 1   sex       303 non-null    int64  \n",
      " 2   cp        303 non-null    int64  \n",
      " 3   trestbps  303 non-null    int64  \n",
      " 4   chol      303 non-null    int64  \n",
      " 5   fbs       303 non-null    int64  \n",
      " 6   restecg   303 non-null    int64  \n",
      " 7   thalach   303 non-null    int64  \n",
      " 8   exang     303 non-null    int64  \n",
      " 9   oldpeak   303 non-null    float64\n",
      " 10  slope     303 non-null    int64  \n",
      " 11  ca        303 non-null    int64  \n",
      " 12  thal      303 non-null    int64  \n",
      " 13  target    303 non-null    int64  \n",
      "dtypes: float64(1), int64(13)\n",
      "memory usage: 33.3 KB\n"
     ]
    }
   ],
   "source": [
    "data.info()              #shows columns have no null values"
   ]
  },
  {
   "cell_type": "markdown",
   "id": "74e1719c-a6a5-4e08-a8b8-547db779c729",
   "metadata": {},
   "source": [
    "### Finding duplicates"
   ]
  },
  {
   "cell_type": "code",
   "execution_count": 72,
   "id": "8d1ff6db-dccb-4a3e-b945-1cb7419079bb",
   "metadata": {},
   "outputs": [
    {
     "name": "stdout",
     "output_type": "stream",
     "text": [
      "1\n"
     ]
    }
   ],
   "source": [
    "duplicate=data.duplicated().sum()\n",
    "print(duplicate)"
   ]
  },
  {
   "cell_type": "markdown",
   "id": "a5822632-c0b3-4d68-ba26-6a1321bbfa91",
   "metadata": {},
   "source": [
    "#### Handling duplicates"
   ]
  },
  {
   "cell_type": "code",
   "execution_count": 73,
   "id": "cb040bd9-0c2b-4dad-8e87-f4a707227dd5",
   "metadata": {},
   "outputs": [
    {
     "name": "stdout",
     "output_type": "stream",
     "text": [
      "0\n"
     ]
    }
   ],
   "source": [
    "data = data.drop_duplicates()\n",
    "print(data.duplicated().sum())"
   ]
  },
  {
   "cell_type": "code",
   "execution_count": 74,
   "id": "ca959796-7618-4227-bbbd-2d366c826dc3",
   "metadata": {},
   "outputs": [
    {
     "data": {
      "text/plain": [
       "(302, 14)"
      ]
     },
     "execution_count": 74,
     "metadata": {},
     "output_type": "execute_result"
    }
   ],
   "source": [
    "data.shape"
   ]
  },
  {
   "cell_type": "markdown",
   "id": "02b951b0-5bdc-4d26-b414-c4ec853ffd3c",
   "metadata": {},
   "source": [
    "Insights:\n",
    "The dataset contains no null values across any of the columns, so no imputation or missing value handling is required and no dtypes error."
   ]
  },
  {
   "cell_type": "code",
   "execution_count": 75,
   "id": "80fa4d89-fb5d-4d99-bd30-db2e1ee2cd48",
   "metadata": {},
   "outputs": [],
   "source": [
    "                                                   ## categorical columns vs target analyze"
   ]
  },
  {
   "cell_type": "markdown",
   "id": "6485dc55-d1f8-4d50-93fc-c061d4f855b8",
   "metadata": {},
   "source": [
    "### Statistical method"
   ]
  },
  {
   "cell_type": "code",
   "execution_count": 76,
   "id": "fd8f2f4e-92f1-49e2-b80b-5e17e9ae3f6d",
   "metadata": {},
   "outputs": [
    {
     "name": "stdout",
     "output_type": "stream",
     "text": [
      "target      1.000000\n",
      "exang       0.435601\n",
      "cp          0.432080\n",
      "oldpeak     0.429146\n",
      "thalach     0.419955\n",
      "ca          0.408992\n",
      "slope       0.343940\n",
      "thal        0.343101\n",
      "sex         0.283609\n",
      "age         0.221476\n",
      "trestbps    0.146269\n",
      "restecg     0.134874\n",
      "chol        0.081437\n",
      "fbs         0.026826\n",
      "Name: target, dtype: float64\n"
     ]
    }
   ],
   "source": [
    "print(data.corr()[\"target\"].abs().sort_values(ascending=False))"
   ]
  },
  {
   "cell_type": "markdown",
   "id": "5765f75d-9d5b-41ca-b249-e0279dc324ad",
   "metadata": {},
   "source": [
    "#### visualization"
   ]
  },
  {
   "cell_type": "code",
   "execution_count": 77,
   "id": "413de32e-38f8-4f7f-b9d1-dadd73856f31",
   "metadata": {},
   "outputs": [
    {
     "data": {
      "image/png": "[encoded data removed]",
      "text/plain": [
       "<Figure size 600x400 with 1 Axes>"
      ]
     },
     "metadata": {},
     "output_type": "display_data"
    }
   ],
   "source": [
    "corr_with_target = data.corr()[\"target\"].abs().sort_values(ascending=False)\n",
    "\n",
    "plt.figure(figsize=(6,4))\n",
    "corr_with_target[1:].plot(kind=\"bar\", color=\"maroon\")  # skip target itself\n",
    "plt.title(\"Feature Correlation with Target\")\n",
    "plt.ylabel(\"Correlation (absolute)\")\n",
    "plt.savefig(\"Feature vs Target.png\")\n",
    "plt.show()"
   ]
  },
  {
   "cell_type": "markdown",
   "id": "dd6f10d9-740c-4e8b-876c-369b25f8c153",
   "metadata": {},
   "source": [
    "We'll analyse 'sex', 'cp', 'fbs', 'restecg', 'exang', 'slope', 'ca' and 'thal' features"
   ]
  },
  {
   "cell_type": "markdown",
   "id": "e0af36c5-4a03-452c-988b-388500151b26",
   "metadata": {},
   "source": [
    "### Analysing the 'Sex' feature"
   ]
  },
  {
   "cell_type": "code",
   "execution_count": 78,
   "id": "33269a54-e3ef-492d-9929-a2b52c07eb25",
   "metadata": {},
   "outputs": [
    {
     "data": {
      "image/png": "[encoded data removed]",
      "text/plain": [
       "<Figure size 640x480 with 1 Axes>"
      ]
     },
     "metadata": {},
     "output_type": "display_data"
    }
   ],
   "source": [
    "sns.barplot(x=\"sex\", y=\"target\", data=data, palette=[\"lightblue\", \"pink\"])\n",
    "plt.show()"
   ]
  },
  {
   "cell_type": "markdown",
   "id": "27a1de7e-09f5-468e-86a8-0e9b2a8834d5",
   "metadata": {},
   "source": [
    "### Analysing the 'Chest Pain Type' feature"
   ]
  },
  {
   "cell_type": "code",
   "execution_count": 79,
   "id": "45ef7abd-0294-4036-bf22-31dbf8866928",
   "metadata": {},
   "outputs": [
    {
     "data": {
      "image/png": "[encoded data removed]",
      "text/plain": [
       "<Figure size 640x480 with 1 Axes>"
      ]
     },
     "metadata": {},
     "output_type": "display_data"
    }
   ],
   "source": [
    "sns.barplot(x=\"cp\", y=\"target\", data=data, palette=[\"lightblue\", \"pink\",\"yellow\",\"red\"])\n",
    "plt.show()"
   ]
  },
  {
   "cell_type": "markdown",
   "id": "fae215c7-6c90-4165-bb64-400dad4b197e",
   "metadata": {},
   "source": [
    "### Analysing the FBS feature"
   ]
  },
  {
   "cell_type": "code",
   "execution_count": 80,
   "id": "5021d6e6-e8f8-4c7f-bb65-bf9a4172df29",
   "metadata": {},
   "outputs": [
    {
     "data": {
      "image/png": "[encoded data removed]",
      "text/plain": [
       "<Figure size 640x480 with 1 Axes>"
      ]
     },
     "metadata": {},
     "output_type": "display_data"
    }
   ],
   "source": [
    "sns.barplot(x=\"fbs\", y=\"target\", data=data, palette=[\"lightblue\", \"pink\"])\n",
    "plt.show()"
   ]
  },
  {
   "cell_type": "markdown",
   "id": "03a4cf53-6931-46f4-b5d1-7a0f1703329f",
   "metadata": {},
   "source": [
    "### Analysing the restecg feature"
   ]
  },
  {
   "cell_type": "code",
   "execution_count": 81,
   "id": "d37f839e-36e9-4184-96ad-261d779ff3b7",
   "metadata": {},
   "outputs": [
    {
     "data": {
      "image/png": "[encoded data removed]",
      "text/plain": [
       "<Figure size 640x480 with 1 Axes>"
      ]
     },
     "metadata": {},
     "output_type": "display_data"
    }
   ],
   "source": [
    "sns.barplot(x=\"restecg\", y=\"target\", data=data, palette=[\"lightblue\", \"pink\",\"yellow\"])\n",
    "plt.show()"
   ]
  },
  {
   "cell_type": "markdown",
   "id": "7665e788-3963-4347-9695-287a3e3dc623",
   "metadata": {},
   "source": [
    "### Analysing the 'exang' feature"
   ]
  },
  {
   "cell_type": "code",
   "execution_count": 82,
   "id": "1d08adf0-7f96-4712-b874-dbcc4c0f631d",
   "metadata": {},
   "outputs": [
    {
     "data": {
      "image/png": "[encoded data removed]",
      "text/plain": [
       "<Figure size 640x480 with 1 Axes>"
      ]
     },
     "metadata": {},
     "output_type": "display_data"
    }
   ],
   "source": [
    "sns.barplot(x=\"exang\", y=\"target\", data=data, palette=[\"lightblue\", \"pink\"])\n",
    "plt.show()"
   ]
  },
  {
   "cell_type": "markdown",
   "id": "0057065c-684e-4256-876e-9574eaa632c3",
   "metadata": {},
   "source": [
    "### Analysing the Slope feature"
   ]
  },
  {
   "cell_type": "code",
   "execution_count": 83,
   "id": "1a6c3e65-51c7-422e-8780-b106c4fbbfb2",
   "metadata": {},
   "outputs": [
    {
     "data": {
      "image/png": "[encoded data removed]",
      "text/plain": [
       "<Figure size 640x480 with 1 Axes>"
      ]
     },
     "metadata": {},
     "output_type": "display_data"
    }
   ],
   "source": [
    "sns.barplot(x=\"slope\", y=\"target\", data=data, palette=[\"lightblue\", \"pink\",\"yellow\"])\n",
    "plt.show()"
   ]
  },
  {
   "cell_type": "markdown",
   "id": "988f241c-885e-4bd7-b27a-1cf7efa9deaf",
   "metadata": {},
   "source": [
    "### Analysing the 'ca' feature"
   ]
  },
  {
   "cell_type": "code",
   "execution_count": 84,
   "id": "f832ce43-a4f9-4fa3-b8ca-a30853ec7e18",
   "metadata": {},
   "outputs": [
    {
     "data": {
      "image/png": "[encoded data removed]",
      "text/plain": [
       "<Figure size 640x480 with 1 Axes>"
      ]
     },
     "metadata": {},
     "output_type": "display_data"
    }
   ],
   "source": [
    "sns.barplot(x=\"ca\", y=\"target\", data=data, palette=[\"lightblue\", \"pink\",\"yellow\",\"red\",\"purple\"])\n",
    "plt.show()"
   ]
  },
  {
   "cell_type": "markdown",
   "id": "995fd205-6e55-400d-a860-dcf0ddc10455",
   "metadata": {},
   "source": [
    "### Analysing the 'thal' feature\n"
   ]
  },
  {
   "cell_type": "code",
   "execution_count": 85,
   "id": "b925d3e7-3e0d-474b-8f03-1ce52358bf85",
   "metadata": {},
   "outputs": [
    {
     "data": {
      "image/png": "[encoded data removed]",
      "text/plain": [
       "<Figure size 640x480 with 1 Axes>"
      ]
     },
     "metadata": {},
     "output_type": "display_data"
    }
   ],
   "source": [
    "sns.barplot(x=\"thal\", y=\"target\", data=data, palette=[\"lightblue\", \"pink\",\"yellow\",\"red\"])\n",
    "plt.show()"
   ]
  },
  {
   "cell_type": "markdown",
   "id": "b5fa4bfa-5b65-4abc-bcaf-1b39748bbabe",
   "metadata": {},
   "source": [
    "Insights:\n",
    "Features like chest pain (cp), exercise angina (exang), oldpeak, thalach, ca, slope, thal are the most important predictors for the target. Features like fbs and chol have very little influence."
   ]
  },
  {
   "cell_type": "markdown",
   "id": "3f9e426f-a0cb-4333-bc98-3a430fa61cd7",
   "metadata": {},
   "source": [
    "                                             # Numeric columns analyze"
   ]
  },
  {
   "cell_type": "markdown",
   "id": "16bdc50b-e587-4b33-bb7c-6e46f8854ce7",
   "metadata": {},
   "source": [
    "#4. Handle Outliers"
   ]
  },
  {
   "cell_type": "markdown",
   "id": "7805d69f-9d09-4279-911e-80f1b8627355",
   "metadata": {},
   "source": [
    "### Statistical method = IQR (Interquartile Range)"
   ]
  },
  {
   "cell_type": "code",
   "execution_count": 86,
   "id": "6936ccab-de77-4f82-af83-21521cbd1e21",
   "metadata": {},
   "outputs": [
    {
     "name": "stdout",
     "output_type": "stream",
     "text": [
      "age: 0 outliers\n",
      "trestbps: 9 outliers\n",
      "chol: 5 outliers\n",
      "thalach: 1 outliers\n",
      "oldpeak: 5 outliers\n"
     ]
    }
   ],
   "source": [
    "numeric_cols = ['age', 'trestbps', 'chol', 'thalach', 'oldpeak']\n",
    "\n",
    "for col in numeric_cols:\n",
    "    Q1 = data[col].quantile(0.25)\n",
    "    Q3 = data[col].quantile(0.75)\n",
    "    IQR = Q3 - Q1                                                           #IQR measures the spread of the middle 50% of the data.\n",
    "    lower = Q1 - 1.5 * IQR\n",
    "    upper = Q3 + 1.5 * IQR\n",
    "    outliers = data[(data[col] < lower) | (data[col] > upper)]\n",
    "    print(f\"{col}: {len(outliers)} outliers\")"
   ]
  },
  {
   "cell_type": "markdown",
   "id": "d88251d6-f2d3-48c4-a0b1-cba455304405",
   "metadata": {},
   "source": [
    "### visualization method"
   ]
  },
  {
   "cell_type": "code",
   "execution_count": 87,
   "id": "d0fdebde-2258-413c-a752-50856d1b7c69",
   "metadata": {},
   "outputs": [
    {
     "data": {
      "image/png": "[encoded data removed]",
      "text/plain": [
       "<Figure size 1200x600 with 5 Axes>"
      ]
     },
     "metadata": {},
     "output_type": "display_data"
    }
   ],
   "source": [
    "import matplotlib.pyplot as plt\n",
    "\n",
    "numeric_cols = [\"age\", \"trestbps\", \"chol\", \"thalach\", \"oldpeak\"]\n",
    "\n",
    "plt.figure(figsize=(12,6))\n",
    "for i, col in enumerate(numeric_cols, 1):\n",
    "    plt.subplot(1, len(numeric_cols), i)\n",
    "    plt.boxplot(data[col], patch_artist=True, boxprops=dict(facecolor=\"lightblue\"))\n",
    "    plt.title(col)\n",
    "\n",
    "plt.suptitle(\"Boxplots of Numeric Columns (Outlier Detection)\", fontsize=14, fontweight=\"bold\")\n",
    "plt.tight_layout()\n",
    "plt.savefig(\"outliers_boxplots.png\")\n",
    "plt.show()"
   ]
  },
  {
   "cell_type": "markdown",
   "id": "91009513-77f1-4933-8ebc-41faf04b9403",
   "metadata": {},
   "source": [
    "Outliers present in trestbps (9), chol (5), thalach (1), oldpeak (5).\n",
    "No outliers in age.\n",
    "Since dataset is small, outliers are not removed to avoid information loss."
   ]
  },
  {
   "cell_type": "markdown",
   "id": "1b956f31-25d4-4620-ac1e-9224a3572d2d",
   "metadata": {},
   "source": [
    "# 5. Handle Skewness / Normalize Data                        "
   ]
  },
  {
   "cell_type": "markdown",
   "id": "fc9e5768-8884-44ba-bf2c-b0565b5d1c08",
   "metadata": {},
   "source": [
    "### Statistical method1"
   ]
  },
  {
   "cell_type": "code",
   "execution_count": 88,
   "id": "c566da5f-8196-436a-855a-6087d924dc41",
   "metadata": {},
   "outputs": [
    {
     "data": {
      "text/html": [
       "<div>\n",
       "<style scoped>\n",
       "    .dataframe tbody tr th:only-of-type {\n",
       "        vertical-align: middle;\n",
       "    }\n",
       "\n",
       "    .dataframe tbody tr th {\n",
       "        vertical-align: top;\n",
       "    }\n",
       "\n",
       "    .dataframe thead th {\n",
       "        text-align: right;\n",
       "    }\n",
       "</style>\n",
       "<table border=\"1\" class=\"dataframe\">\n",
       "  <thead>\n",
       "    <tr style=\"text-align: right;\">\n",
       "      <th></th>\n",
       "      <th>age</th>\n",
       "      <th>sex</th>\n",
       "      <th>cp</th>\n",
       "      <th>trestbps</th>\n",
       "      <th>chol</th>\n",
       "      <th>fbs</th>\n",
       "      <th>restecg</th>\n",
       "      <th>thalach</th>\n",
       "      <th>exang</th>\n",
       "      <th>oldpeak</th>\n",
       "      <th>slope</th>\n",
       "      <th>ca</th>\n",
       "      <th>thal</th>\n",
       "      <th>target</th>\n",
       "    </tr>\n",
       "  </thead>\n",
       "  <tbody>\n",
       "    <tr>\n",
       "      <th>count</th>\n",
       "      <td>302.00000</td>\n",
       "      <td>302.000000</td>\n",
       "      <td>302.000000</td>\n",
       "      <td>302.000000</td>\n",
       "      <td>302.000000</td>\n",
       "      <td>302.000000</td>\n",
       "      <td>302.000000</td>\n",
       "      <td>302.000000</td>\n",
       "      <td>302.000000</td>\n",
       "      <td>302.000000</td>\n",
       "      <td>302.000000</td>\n",
       "      <td>302.000000</td>\n",
       "      <td>302.000000</td>\n",
       "      <td>302.000000</td>\n",
       "    </tr>\n",
       "    <tr>\n",
       "      <th>mean</th>\n",
       "      <td>54.42053</td>\n",
       "      <td>0.682119</td>\n",
       "      <td>0.963576</td>\n",
       "      <td>131.602649</td>\n",
       "      <td>246.500000</td>\n",
       "      <td>0.149007</td>\n",
       "      <td>0.526490</td>\n",
       "      <td>149.569536</td>\n",
       "      <td>0.327815</td>\n",
       "      <td>1.043046</td>\n",
       "      <td>1.397351</td>\n",
       "      <td>0.718543</td>\n",
       "      <td>2.314570</td>\n",
       "      <td>0.543046</td>\n",
       "    </tr>\n",
       "    <tr>\n",
       "      <th>std</th>\n",
       "      <td>9.04797</td>\n",
       "      <td>0.466426</td>\n",
       "      <td>1.032044</td>\n",
       "      <td>17.563394</td>\n",
       "      <td>51.753489</td>\n",
       "      <td>0.356686</td>\n",
       "      <td>0.526027</td>\n",
       "      <td>22.903527</td>\n",
       "      <td>0.470196</td>\n",
       "      <td>1.161452</td>\n",
       "      <td>0.616274</td>\n",
       "      <td>1.006748</td>\n",
       "      <td>0.613026</td>\n",
       "      <td>0.498970</td>\n",
       "    </tr>\n",
       "    <tr>\n",
       "      <th>min</th>\n",
       "      <td>29.00000</td>\n",
       "      <td>0.000000</td>\n",
       "      <td>0.000000</td>\n",
       "      <td>94.000000</td>\n",
       "      <td>126.000000</td>\n",
       "      <td>0.000000</td>\n",
       "      <td>0.000000</td>\n",
       "      <td>71.000000</td>\n",
       "      <td>0.000000</td>\n",
       "      <td>0.000000</td>\n",
       "      <td>0.000000</td>\n",
       "      <td>0.000000</td>\n",
       "      <td>0.000000</td>\n",
       "      <td>0.000000</td>\n",
       "    </tr>\n",
       "    <tr>\n",
       "      <th>25%</th>\n",
       "      <td>48.00000</td>\n",
       "      <td>0.000000</td>\n",
       "      <td>0.000000</td>\n",
       "      <td>120.000000</td>\n",
       "      <td>211.000000</td>\n",
       "      <td>0.000000</td>\n",
       "      <td>0.000000</td>\n",
       "      <td>133.250000</td>\n",
       "      <td>0.000000</td>\n",
       "      <td>0.000000</td>\n",
       "      <td>1.000000</td>\n",
       "      <td>0.000000</td>\n",
       "      <td>2.000000</td>\n",
       "      <td>0.000000</td>\n",
       "    </tr>\n",
       "    <tr>\n",
       "      <th>50%</th>\n",
       "      <td>55.50000</td>\n",
       "      <td>1.000000</td>\n",
       "      <td>1.000000</td>\n",
       "      <td>130.000000</td>\n",
       "      <td>240.500000</td>\n",
       "      <td>0.000000</td>\n",
       "      <td>1.000000</td>\n",
       "      <td>152.500000</td>\n",
       "      <td>0.000000</td>\n",
       "      <td>0.800000</td>\n",
       "      <td>1.000000</td>\n",
       "      <td>0.000000</td>\n",
       "      <td>2.000000</td>\n",
       "      <td>1.000000</td>\n",
       "    </tr>\n",
       "    <tr>\n",
       "      <th>75%</th>\n",
       "      <td>61.00000</td>\n",
       "      <td>1.000000</td>\n",
       "      <td>2.000000</td>\n",
       "      <td>140.000000</td>\n",
       "      <td>274.750000</td>\n",
       "      <td>0.000000</td>\n",
       "      <td>1.000000</td>\n",
       "      <td>166.000000</td>\n",
       "      <td>1.000000</td>\n",
       "      <td>1.600000</td>\n",
       "      <td>2.000000</td>\n",
       "      <td>1.000000</td>\n",
       "      <td>3.000000</td>\n",
       "      <td>1.000000</td>\n",
       "    </tr>\n",
       "    <tr>\n",
       "      <th>max</th>\n",
       "      <td>77.00000</td>\n",
       "      <td>1.000000</td>\n",
       "      <td>3.000000</td>\n",
       "      <td>200.000000</td>\n",
       "      <td>564.000000</td>\n",
       "      <td>1.000000</td>\n",
       "      <td>2.000000</td>\n",
       "      <td>202.000000</td>\n",
       "      <td>1.000000</td>\n",
       "      <td>6.200000</td>\n",
       "      <td>2.000000</td>\n",
       "      <td>4.000000</td>\n",
       "      <td>3.000000</td>\n",
       "      <td>1.000000</td>\n",
       "    </tr>\n",
       "  </tbody>\n",
       "</table>\n",
       "</div>"
      ],
      "text/plain": [
       "             age         sex          cp    trestbps        chol         fbs  \\\n",
       "count  302.00000  302.000000  302.000000  302.000000  302.000000  302.000000   \n",
       "mean    54.42053    0.682119    0.963576  131.602649  246.500000    0.149007   \n",
       "std      9.04797    0.466426    1.032044   17.563394   51.753489    0.356686   \n",
       "min     29.00000    0.000000    0.000000   94.000000  126.000000    0.000000   \n",
       "25%     48.00000    0.000000    0.000000  120.000000  211.000000    0.000000   \n",
       "50%     55.50000    1.000000    1.000000  130.000000  240.500000    0.000000   \n",
       "75%     61.00000    1.000000    2.000000  140.000000  274.750000    0.000000   \n",
       "max     77.00000    1.000000    3.000000  200.000000  564.000000    1.000000   \n",
       "\n",
       "          restecg     thalach       exang     oldpeak       slope          ca  \\\n",
       "count  302.000000  302.000000  302.000000  302.000000  302.000000  302.000000   \n",
       "mean     0.526490  149.569536    0.327815    1.043046    1.397351    0.718543   \n",
       "std      0.526027   22.903527    0.470196    1.161452    0.616274    1.006748   \n",
       "min      0.000000   71.000000    0.000000    0.000000    0.000000    0.000000   \n",
       "25%      0.000000  133.250000    0.000000    0.000000    1.000000    0.000000   \n",
       "50%      1.000000  152.500000    0.000000    0.800000    1.000000    0.000000   \n",
       "75%      1.000000  166.000000    1.000000    1.600000    2.000000    1.000000   \n",
       "max      2.000000  202.000000    1.000000    6.200000    2.000000    4.000000   \n",
       "\n",
       "             thal      target  \n",
       "count  302.000000  302.000000  \n",
       "mean     2.314570    0.543046  \n",
       "std      0.613026    0.498970  \n",
       "min      0.000000    0.000000  \n",
       "25%      2.000000    0.000000  \n",
       "50%      2.000000    1.000000  \n",
       "75%      3.000000    1.000000  \n",
       "max      3.000000    1.000000  "
      ]
     },
     "execution_count": 88,
     "metadata": {},
     "output_type": "execute_result"
    }
   ],
   "source": [
    "data.describe()"
   ]
  },
  {
   "cell_type": "markdown",
   "id": "c9cc9e7d-7d63-4e00-9e0d-ec2e57f49daf",
   "metadata": {},
   "source": [
    "#### Method2"
   ]
  },
  {
   "cell_type": "code",
   "execution_count": 89,
   "id": "166d0c8e-e61a-4af5-ba94-7d5d64f7cc44",
   "metadata": {},
   "outputs": [
    {
     "data": {
      "text/plain": [
       "age        -0.203743\n",
       "trestbps    0.716541\n",
       "chol        1.147332\n",
       "thalach    -0.532671\n",
       "oldpeak     1.266173\n",
       "dtype: float64"
      ]
     },
     "execution_count": 89,
     "metadata": {},
     "output_type": "execute_result"
    }
   ],
   "source": [
    "data[numeric_columns].skew()       #pandas method"
   ]
  },
  {
   "cell_type": "markdown",
   "id": "b56e8ec5-0cff-4e06-aaa2-f55262ad83d8",
   "metadata": {},
   "source": [
    "Insights:\n",
    "\n",
    "🔹chol(+1.14), oldpeak(+1.27) → Need to Handle (|skew| > 1, strong right skew)\n",
    "\n",
    "🔹trestbps(+0.71), thalach(–0.54) → Optional (0.5 < |skew| ≤ 1, moderate skew)\n",
    "\n",
    "🔹age(–0.20) → No handling needed (|skew| ≤ 0.5, symmetric)."
   ]
  },
  {
   "cell_type": "markdown",
   "id": "b999ffcf-997d-495e-9fd7-8f0a642532c4",
   "metadata": {},
   "source": [
    "### visualization method"
   ]
  },
  {
   "cell_type": "code",
   "execution_count": 90,
   "id": "c1308c8f-a968-48ca-b7c1-d6c3d33eb6e8",
   "metadata": {},
   "outputs": [
    {
     "data": {
      "image/png": "[encoded data removed]",
      "text/plain": [
       "<Figure size 600x400 with 1 Axes>"
      ]
     },
     "metadata": {},
     "output_type": "display_data"
    }
   ],
   "source": [
    "import matplotlib.pyplot as plt\n",
    "\n",
    "skew_vals = {\n",
    "    \"Age\": -0.20,\n",
    "    \"Trestbps\": 0.71,\n",
    "    \"Chol\": 1.14,\n",
    "    \"Thalach\": -0.54,\n",
    "    \"Oldpeak\": 1.27\n",
    "}\n",
    "\n",
    "plt.figure(figsize=(6,4))\n",
    "plt.bar(skew_vals.keys(), skew_vals.values(), color=\"maroon\")\n",
    "plt.axhline(0, color=\"black\", linestyle=\"--\")\n",
    "plt.title(\"Skewness of Numeric Columns\")\n",
    "plt.ylabel(\"Skewness Value\")\n",
    "plt.savefig(\"skewness.png\")\n",
    "plt.show()"
   ]
  },
  {
   "cell_type": "markdown",
   "id": "4ea92d12-b0e6-4139-932c-e8afba6032fd",
   "metadata": {},
   "source": [
    "## Handling Skewness"
   ]
  },
  {
   "cell_type": "markdown",
   "id": "436005e4-2122-4fe9-bcd4-497b7d0dfa08",
   "metadata": {},
   "source": [
    "#### Log Transformation(values are positive and large)"
   ]
  },
  {
   "cell_type": "code",
   "execution_count": 91,
   "id": "3ac4175a-4edc-4817-bb60-106807df0181",
   "metadata": {},
   "outputs": [],
   "source": [
    "import numpy as np\n",
    "data['chol_log'] = np.log1p(data['chol'])\n",
    "data['oldpeak_log'] = np.log1p(data['oldpeak'])"
   ]
  },
  {
   "cell_type": "code",
   "execution_count": 92,
   "id": "d1d9a621-91aa-40f0-82e5-062fd71145b6",
   "metadata": {},
   "outputs": [
    {
     "data": {
      "text/plain": [
       "chol_log       0.088562\n",
       "oldpeak_log    0.391946\n",
       "dtype: float64"
      ]
     },
     "execution_count": 92,
     "metadata": {},
     "output_type": "execute_result"
    }
   ],
   "source": [
    "data[['chol_log', 'oldpeak_log']].skew()"
   ]
  },
  {
   "cell_type": "markdown",
   "id": "ee96a313-4e6c-49ff-a371-c2e2a9ceed8f",
   "metadata": {},
   "source": [
    "#### Square Root Transformation (data has moderate skewness and column values are non-negative)"
   ]
  },
  {
   "cell_type": "code",
   "execution_count": 93,
   "id": "4a1d8943-641e-4757-873e-dda8c6932d15",
   "metadata": {},
   "outputs": [],
   "source": [
    "data['trestbps_sqrt'] = np.sqrt(data['trestbps'])"
   ]
  },
  {
   "cell_type": "code",
   "execution_count": 94,
   "id": "384de22f-ee99-45d2-a973-cf205f5285d2",
   "metadata": {},
   "outputs": [
    {
     "data": {
      "text/plain": [
       "np.float64(0.4965869206742481)"
      ]
     },
     "execution_count": 94,
     "metadata": {},
     "output_type": "execute_result"
    }
   ],
   "source": [
    "data['trestbps_sqrt'].skew()"
   ]
  },
  {
   "cell_type": "code",
   "execution_count": 95,
   "id": "f81e323c-a5b8-4f5a-99e3-2b076dc38181",
   "metadata": {},
   "outputs": [],
   "source": [
    "data['thalach_cbrt']=np.cbrt(data['thalach'])"
   ]
  },
  {
   "cell_type": "code",
   "execution_count": 96,
   "id": "fbc65b4d-da2f-470f-9d68-938a7f8fa56a",
   "metadata": {},
   "outputs": [
    {
     "data": {
      "text/plain": [
       "np.float64(-0.8277223448306088)"
      ]
     },
     "execution_count": 96,
     "metadata": {},
     "output_type": "execute_result"
    }
   ],
   "source": [
    "data['thalach_cbrt'].skew()"
   ]
  },
  {
   "cell_type": "markdown",
   "id": "4c776122-445a-466f-9dd9-1aaa68c1736d",
   "metadata": {},
   "source": [
    "After transformation, skewness values moved closer to 0 (near-symmetric).\n",
    "No transformation needed for Age (already symmetric)."
   ]
  },
  {
   "cell_type": "markdown",
   "id": "90a00cef-a137-45ae-998d-4caf695ea546",
   "metadata": {},
   "source": [
    "## After transformation"
   ]
  },
  {
   "cell_type": "code",
   "execution_count": 97,
   "id": "dec61103-2cd6-4172-b8c0-a97f024c2b9d",
   "metadata": {},
   "outputs": [
    {
     "data": {
      "text/plain": [
       "Index(['age', 'sex', 'cp', 'trestbps', 'chol', 'fbs', 'restecg', 'thalach',\n",
       "       'exang', 'oldpeak', 'slope', 'ca', 'thal', 'target', 'chol_log',\n",
       "       'oldpeak_log', 'trestbps_sqrt', 'thalach_cbrt'],\n",
       "      dtype='object')"
      ]
     },
     "execution_count": 97,
     "metadata": {},
     "output_type": "execute_result"
    }
   ],
   "source": [
    "data.columns"
   ]
  },
  {
   "cell_type": "code",
   "execution_count": 98,
   "id": "15e0f744-9b87-41f5-8799-73ed6f842303",
   "metadata": {},
   "outputs": [
    {
     "data": {
      "image/png": "[encoded data removed]",
      "text/plain": [
       "<Figure size 800x500 with 1 Axes>"
      ]
     },
     "metadata": {},
     "output_type": "display_data"
    }
   ],
   "source": [
    "\n",
    "import matplotlib.pyplot as plt\n",
    "import numpy as np\n",
    "\n",
    "columns = [\"Chol\", \"Oldpeak\", \"Trestbps\", \"Thalach\"]\n",
    "before = [1.14, 1.27, 0.71, -0.54]\n",
    "after  = [0.08, 0.39, 0.49, -0.82]\n",
    "\n",
    "x = np.arange(len(columns))\n",
    "width = 0.35  \n",
    "\n",
    "plt.figure(figsize=(8,5))\n",
    "plt.bar(x - width/2, before, width, label=\"Before\", color=\"maroon\")\n",
    "plt.bar(x + width/2, after, width, label=\"After\", color=\"lightblue\")\n",
    "plt.axhline(0, color=\"black\", linestyle=\"--\")\n",
    "plt.xticks(x, columns)\n",
    "plt.ylabel(\"Skewness Value\")\n",
    "plt.title(\"Skewness Before vs After Transformation\")\n",
    "plt.legend()\n",
    "plt.savefig(\"skewness.png\")\n",
    "plt.show()"
   ]
  },
  {
   "cell_type": "markdown",
   "id": "c4ef956b-d874-402e-ae17-39eca7c9f405",
   "metadata": {},
   "source": [
    "# 6.Scaling"
   ]
  },
  {
   "cell_type": "code",
   "execution_count": 99,
   "id": "521e2372-ad8a-4979-b850-6f5997e5e63a",
   "metadata": {},
   "outputs": [],
   "source": [
    "from sklearn.preprocessing import StandardScaler\n",
    "\n",
    "numeric_cols = ['age','trestbps','chol','thalach','oldpeak']  # example numeric columns\n",
    "scaler = StandardScaler()\n",
    "data[numeric_cols] = scaler.fit_transform(data[numeric_cols])"
   ]
  },
  {
   "cell_type": "code",
   "execution_count": 100,
   "id": "e6480d50-8974-4086-993b-3cdf0a7f1d41",
   "metadata": {},
   "outputs": [
    {
     "data": {
      "text/plain": [
       "Index(['age', 'sex', 'cp', 'trestbps', 'chol', 'fbs', 'restecg', 'thalach',\n",
       "       'exang', 'oldpeak', 'slope', 'ca', 'thal', 'target', 'chol_log',\n",
       "       'oldpeak_log', 'trestbps_sqrt', 'thalach_cbrt'],\n",
       "      dtype='object')"
      ]
     },
     "execution_count": 100,
     "metadata": {},
     "output_type": "execute_result"
    }
   ],
   "source": [
    "data.columns"
   ]
  },
  {
   "cell_type": "code",
   "execution_count": 105,
   "id": "c1ed4287-405e-4933-8325-4698de735048",
   "metadata": {},
   "outputs": [
    {
     "name": "stdout",
     "output_type": "stream",
     "text": [
      "age         0.0\n",
      "trestbps    0.0\n",
      "chol        0.0\n",
      "thalach     0.0\n",
      "oldpeak     0.0\n",
      "dtype: float64\n"
     ]
    }
   ],
   "source": [
    "# Check mean and standard deviation\n",
    "print(abs(data[numeric_cols].mean().round(2)))"
   ]
  },
  {
   "cell_type": "code",
   "execution_count": 106,
   "id": "0780d617-127f-44ab-b65c-6f63cec1ba9b",
   "metadata": {},
   "outputs": [
    {
     "name": "stdout",
     "output_type": "stream",
     "text": [
      "age         1.00166\n",
      "trestbps    1.00166\n",
      "chol        1.00166\n",
      "thalach     1.00166\n",
      "oldpeak     1.00166\n",
      "dtype: float64\n"
     ]
    }
   ],
   "source": [
    "print(data[numeric_cols].std())"
   ]
  },
  {
   "cell_type": "markdown",
   "id": "81bd7bce-0b4e-40f8-a4dc-c55b09ea5469",
   "metadata": {},
   "source": [
    "All features centered around 0 mean.All features normalized to unit variance (σ ≈ 1)\n",
    "Ensures that no feature dominates model due to magnitude differences"
   ]
  },
  {
   "cell_type": "markdown",
   "id": "77c05fd5-d224-4a3a-859d-0aa915df3596",
   "metadata": {},
   "source": [
    "# 7.Encoding"
   ]
  },
  {
   "cell_type": "code",
   "execution_count": 107,
   "id": "fb1c5643-b489-42c6-bff9-57acfb06fd73",
   "metadata": {},
   "outputs": [
    {
     "name": "stdout",
     "output_type": "stream",
     "text": [
      "        age  sex  trestbps      chol  fbs   thalach  exang   oldpeak  target  \\\n",
      "0  0.949794    1  0.764066 -0.261285    1  0.018826      0  1.084022       1   \n",
      "1 -1.928548    1 -0.091401  0.067741    0  1.636979      0  2.118926       1   \n",
      "2 -1.485726    0 -0.091401 -0.822564    0  0.980971      0  0.307844       1   \n",
      "3  0.174856    1 -0.661712 -0.203222    0  1.243374      0 -0.209608       1   \n",
      "4  0.285561    0 -0.661712  2.080602    0  0.587366      1 -0.382092       1   \n",
      "\n",
      "   chol_log  ...  restecg_2  slope_1  slope_2  thal_1  thal_2  thal_3   ca_1  \\\n",
      "0  5.455321  ...      False    False    False    True   False   False  False   \n",
      "1  5.525453  ...      False    False    False   False    True   False  False   \n",
      "2  5.323010  ...      False    False     True   False    True   False  False   \n",
      "3  5.468060  ...      False    False     True   False    True   False  False   \n",
      "4  5.872118  ...      False    False     True   False    True   False  False   \n",
      "\n",
      "    ca_2   ca_3   ca_4  \n",
      "0  False  False  False  \n",
      "1  False  False  False  \n",
      "2  False  False  False  \n",
      "3  False  False  False  \n",
      "4  False  False  False  \n",
      "\n",
      "[5 rows x 27 columns]\n"
     ]
    }
   ],
   "source": [
    "import pandas as pd\n",
    "\n",
    "# Multiclass categorical columns\n",
    "multiclass_cols = ['cp', 'restecg', 'slope', 'thal', 'ca']\n",
    "\n",
    "# Apply One-Hot Encoding\n",
    "data = pd.get_dummies(data, columns=multiclass_cols, drop_first=True)\n",
    "\n",
    "print(data.head())"
   ]
  },
  {
   "cell_type": "code",
   "execution_count": 108,
   "id": "9442c269-8c07-44df-ab14-9323e83fbcde",
   "metadata": {},
   "outputs": [
    {
     "name": "stdout",
     "output_type": "stream",
     "text": [
      "Index(['age', 'sex', 'trestbps', 'chol', 'fbs', 'thalach', 'exang', 'oldpeak',\n",
      "       'target', 'chol_log', 'oldpeak_log', 'trestbps_sqrt', 'thalach_cbrt',\n",
      "       'cp_1', 'cp_2', 'cp_3', 'restecg_1', 'restecg_2', 'slope_1', 'slope_2',\n",
      "       'thal_1', 'thal_2', 'thal_3', 'ca_1', 'ca_2', 'ca_3', 'ca_4'],\n",
      "      dtype='object')\n"
     ]
    }
   ],
   "source": [
    "print(data.columns)"
   ]
  },
  {
   "cell_type": "code",
   "execution_count": 109,
   "id": "934819df-0fac-452a-8f7a-ed243f85b7c5",
   "metadata": {},
   "outputs": [
    {
     "name": "stdout",
     "output_type": "stream",
     "text": [
      "Shape after encoding: (302, 27)\n"
     ]
    }
   ],
   "source": [
    "print(\"Shape after encoding:\", data.shape)"
   ]
  },
  {
   "cell_type": "markdown",
   "id": "869ce6c4-9c42-4d58-83e4-86dcb527ad6a",
   "metadata": {},
   "source": [
    "# 7. Train Test split"
   ]
  },
  {
   "cell_type": "code",
   "execution_count": 110,
   "id": "2206e8bd-63e1-4455-957a-1d25fce774f6",
   "metadata": {},
   "outputs": [],
   "source": [
    "from sklearn.model_selection import train_test_split\n",
    "\n",
    "predictors = data.drop(\"target\",axis=1)\n",
    "target = data[\"target\"]\n",
    "\n",
    "X_train,X_test,Y_train,Y_test = train_test_split(predictors,target,test_size=0.20,random_state=0)"
   ]
  },
  {
   "cell_type": "code",
   "execution_count": 111,
   "id": "f5f48b3e-7361-48be-9ab4-b2681110b9e9",
   "metadata": {},
   "outputs": [
    {
     "name": "stdout",
     "output_type": "stream",
     "text": [
      "X_train: (241, 26)\n",
      "X_test: (61, 26)\n",
      "Y_train: (241,)\n",
      "Y_test: (61,)\n"
     ]
    }
   ],
   "source": [
    "print(\"X_train:\", X_train.shape)\n",
    "print(\"X_test:\", X_test.shape)\n",
    "print(\"Y_train:\", Y_train.shape)\n",
    "print(\"Y_test:\", Y_test.shape)"
   ]
  },
  {
   "cell_type": "code",
   "execution_count": 112,
   "id": "eee1e49c-2a3b-488b-9535-6ea01184a3e8",
   "metadata": {},
   "outputs": [
    {
     "name": "stdout",
     "output_type": "stream",
     "text": [
      "target\n",
      "1    130\n",
      "0    111\n",
      "Name: count, dtype: int64\n",
      "target\n",
      "1    34\n",
      "0    27\n",
      "Name: count, dtype: int64\n"
     ]
    }
   ],
   "source": [
    "print(Y_train.value_counts())\n",
    "print(Y_test.value_counts())"
   ]
  },
  {
   "cell_type": "markdown",
   "id": "7c0bbd7f-5a8b-41e5-9dc6-2a15d99df8b1",
   "metadata": {},
   "source": [
    "# 8.Model Training "
   ]
  },
  {
   "cell_type": "markdown",
   "id": "4b9862cb-633a-4378-85ca-9c655fee646d",
   "metadata": {},
   "source": [
    "1️. Logistic Regression"
   ]
  },
  {
   "cell_type": "code",
   "execution_count": 113,
   "id": "c2b650db-9ed2-4182-8b45-7350ba67cda4",
   "metadata": {},
   "outputs": [
    {
     "name": "stdout",
     "output_type": "stream",
     "text": [
      "Logistic Regression Accuracy: 88.52%\n"
     ]
    }
   ],
   "source": [
    "from sklearn.linear_model import LogisticRegression\n",
    "from sklearn.metrics import accuracy_score\n",
    "\n",
    "# Model\n",
    "lr = LogisticRegression(max_iter=1000,random_state=42)\n",
    "lr.fit(X_train, Y_train)\n",
    "\n",
    "# Prediction\n",
    "y_pred = lr.predict(X_test)\n",
    "\n",
    "# Accuracy\n",
    "accuracy = round(accuracy_score(Y_test, y_pred) * 100, 2)\n",
    "print(f\"Logistic Regression Accuracy: {accuracy}%\")"
   ]
  },
  {
   "cell_type": "markdown",
   "id": "a397f42c-7934-4525-abbd-1a21f45de037",
   "metadata": {},
   "source": [
    "2️. Naive Bayes"
   ]
  },
  {
   "cell_type": "code",
   "execution_count": 114,
   "id": "93bbec84-6085-4c9c-bafc-8a57e785720e",
   "metadata": {},
   "outputs": [
    {
     "name": "stdout",
     "output_type": "stream",
     "text": [
      "Naive Bayes Accuracy: 85.25%\n"
     ]
    }
   ],
   "source": [
    "from sklearn.naive_bayes import GaussianNB\n",
    "from sklearn.metrics import accuracy_score\n",
    "\n",
    "nb = GaussianNB()\n",
    "nb.fit(X_train, Y_train)\n",
    "\n",
    "y_pred = nb.predict(X_test)\n",
    "\n",
    "accuracy = round(accuracy_score(Y_test, y_pred) * 100, 2)\n",
    "print(f\"Naive Bayes Accuracy: {accuracy}%\")"
   ]
  },
  {
   "cell_type": "markdown",
   "id": "f374f6b3-7a56-4b7e-955f-0f7c7574e5ba",
   "metadata": {},
   "source": [
    "3️. Support Vector Machine (SVM)"
   ]
  },
  {
   "cell_type": "code",
   "execution_count": 115,
   "id": "b9f6d465-af82-422e-b8d8-22c281cd8d7c",
   "metadata": {},
   "outputs": [
    {
     "name": "stdout",
     "output_type": "stream",
     "text": [
      "SVM Accuracy: 85.25%\n"
     ]
    }
   ],
   "source": [
    "from sklearn.svm import SVC\n",
    "from sklearn.metrics import accuracy_score\n",
    "\n",
    "svm = SVC()\n",
    "svm.fit(X_train, Y_train)\n",
    "\n",
    "y_pred = svm.predict(X_test)\n",
    "\n",
    "accuracy = round(accuracy_score(Y_test, y_pred) * 100, 2)\n",
    "print(f\"SVM Accuracy: {accuracy}%\")"
   ]
  },
  {
   "cell_type": "markdown",
   "id": "010a2f73-eece-46cc-ac5d-f79f764f5e0c",
   "metadata": {},
   "source": [
    "4️. K-Nearest Neighbors (KNN)"
   ]
  },
  {
   "cell_type": "code",
   "execution_count": 116,
   "id": "ff499aa1-688d-46c0-968d-05f5e0b001b0",
   "metadata": {},
   "outputs": [
    {
     "name": "stdout",
     "output_type": "stream",
     "text": [
      "KNN Accuracy: 85.25%\n"
     ]
    }
   ],
   "source": [
    "from sklearn.neighbors import KNeighborsClassifier\n",
    "from sklearn.metrics import accuracy_score\n",
    "\n",
    "knn = KNeighborsClassifier()\n",
    "knn.fit(X_train, Y_train)\n",
    "\n",
    "y_pred = knn.predict(X_test)\n",
    "\n",
    "accuracy = round(accuracy_score(Y_test, y_pred) * 100, 2)\n",
    "print(f\"KNN Accuracy: {accuracy}%\")"
   ]
  },
  {
   "cell_type": "markdown",
   "id": "43456192-b40c-4b29-bb9a-401ba583ac1d",
   "metadata": {},
   "source": [
    "5.Decision Tree"
   ]
  },
  {
   "cell_type": "code",
   "execution_count": 119,
   "id": "f98516c2-85c7-4f30-bb73-7e0600b63010",
   "metadata": {},
   "outputs": [
    {
     "name": "stdout",
     "output_type": "stream",
     "text": [
      "Decision Tree Accuracy: 72.13%\n"
     ]
    }
   ],
   "source": [
    "from sklearn.tree import DecisionTreeClassifier\n",
    "from sklearn.metrics import accuracy_score\n",
    "\n",
    "# Model\n",
    "dt = DecisionTreeClassifier(random_state=42)\n",
    "dt.fit(X_train, Y_train)\n",
    "\n",
    "# Prediction\n",
    "y_pred = dt.predict(X_test)\n",
    "\n",
    "# Accuracy\n",
    "accuracy = round(accuracy_score(Y_test, y_pred) * 100, 2)\n",
    "print(f\"Decision Tree Accuracy: {accuracy}%\")"
   ]
  },
  {
   "cell_type": "markdown",
   "id": "830ce246-9273-4950-bc69-195e00529f81",
   "metadata": {},
   "source": [
    "6. Random Forest"
   ]
  },
  {
   "cell_type": "code",
   "execution_count": 120,
   "id": "908a9c86-8728-4def-8197-238b8810d536",
   "metadata": {},
   "outputs": [
    {
     "name": "stdout",
     "output_type": "stream",
     "text": [
      "Random Forest Accuracy: 83.61%\n"
     ]
    }
   ],
   "source": [
    "from sklearn.ensemble import RandomForestClassifier\n",
    "from sklearn.metrics import accuracy_score\n",
    "\n",
    "rf = RandomForestClassifier(random_state=42)\n",
    "rf.fit(X_train, Y_train)\n",
    "\n",
    "y_pred = rf.predict(X_test)\n",
    "\n",
    "accuracy = round(accuracy_score(Y_test, y_pred) * 100, 2)\n",
    "print(f\"Random Forest Accuracy: {accuracy}%\")"
   ]
  },
  {
   "cell_type": "code",
   "execution_count": 121,
   "id": "13cbeed4-e3c6-4766-9f05-fa6956c14518",
   "metadata": {},
   "outputs": [
    {
     "name": "stdout",
     "output_type": "stream",
     "text": [
      "Requirement already satisfied: xgboost in c:\\users\\manoj prabhakar\\miniconda3\\lib\\site-packages (3.0.4)\n",
      "Requirement already satisfied: numpy in c:\\users\\manoj prabhakar\\miniconda3\\lib\\site-packages (from xgboost) (2.3.1)\n",
      "Requirement already satisfied: scipy in c:\\users\\manoj prabhakar\\miniconda3\\lib\\site-packages (from xgboost) (1.16.1)\n"
     ]
    }
   ],
   "source": [
    "!pip install xgboost"
   ]
  },
  {
   "cell_type": "markdown",
   "id": "2a7b4af7-232c-434b-b1b3-53e0adf1c2e2",
   "metadata": {},
   "source": [
    "7️. XGBoost"
   ]
  },
  {
   "cell_type": "code",
   "execution_count": 123,
   "id": "5f01e1b4-064e-467b-81c6-4b1c13d7eaf4",
   "metadata": {},
   "outputs": [
    {
     "name": "stdout",
     "output_type": "stream",
     "text": [
      "XGBoost Accuracy: 80.33%\n"
     ]
    }
   ],
   "source": [
    "from xgboost import XGBClassifier\n",
    "from sklearn.metrics import accuracy_score\n",
    "\n",
    "xgb = XGBClassifier(use_label_encoder=False, eval_metric='logloss',random_state=42)\n",
    "xgb.fit(X_train, Y_train)\n",
    "\n",
    "y_pred = xgb.predict(X_test)\n",
    "\n",
    "accuracy = round(accuracy_score(Y_test, y_pred) * 100, 2)\n",
    "print(f\"XGBoost Accuracy: {accuracy}%\")"
   ]
  },
  {
   "cell_type": "markdown",
   "id": "49e4f694-77a0-4eb6-8391-6eeeae0188e9",
   "metadata": {},
   "source": [
    "8️. Neural Network"
   ]
  },
  {
   "cell_type": "code",
   "execution_count": 124,
   "id": "56532888-229a-4e9c-8975-0b6a0d085db1",
   "metadata": {},
   "outputs": [
    {
     "name": "stdout",
     "output_type": "stream",
     "text": [
      "Neural Network Accuracy: 81.97%\n"
     ]
    }
   ],
   "source": [
    "from sklearn.neural_network import MLPClassifier\n",
    "from sklearn.metrics import accuracy_score\n",
    "\n",
    "nn = MLPClassifier(max_iter=1000,random_state=42)\n",
    "nn.fit(X_train, Y_train)\n",
    "\n",
    "y_pred = nn.predict(X_test)\n",
    "\n",
    "accuracy = round(accuracy_score(Y_test, y_pred) * 100, 2)\n",
    "print(f\"Neural Network Accuracy: {accuracy}%\")"
   ]
  },
  {
   "cell_type": "code",
   "execution_count": 125,
   "id": "72a7b314-d53d-4032-81eb-41330721c132",
   "metadata": {
    "scrolled": true
   },
   "outputs": [
    {
     "name": "stdout",
     "output_type": "stream",
     "text": [
      "             Algorithm  Accuracy (%)\n",
      "0  Logistic Regression         88.52\n",
      "1          Naive Bayes         85.25\n",
      "2                  SVM         85.25\n",
      "3                  KNN         85.25\n",
      "4        Random Forest         83.61\n",
      "5       Neural Network         81.97\n",
      "6              XGBoost         80.33\n",
      "7        Decision Tree         72.13\n"
     ]
    }
   ],
   "source": [
    "# Define models in a dictionary\n",
    "models = {\n",
    "    \"Logistic Regression\": LogisticRegression(max_iter=1000, random_state=42),\n",
    "    \"Naive Bayes\": GaussianNB(),\n",
    "    \"SVM\": SVC(),\n",
    "    \"KNN\": KNeighborsClassifier(),\n",
    "    \"Decision Tree\": DecisionTreeClassifier(random_state=42),\n",
    "    \"Random Forest\": RandomForestClassifier(random_state=42),\n",
    "    \"XGBoost\": XGBClassifier(use_label_encoder=False, eval_metric='logloss', random_state=42),\n",
    "    \"Neural Network\": MLPClassifier(max_iter=1000, random_state=42)\n",
    "}\n",
    "\n",
    "# Train models and calculate accuracy\n",
    "results = []\n",
    "for name, model in models.items():\n",
    "    model.fit(X_train, Y_train)\n",
    "    y_pred = model.predict(X_test)\n",
    "    acc = round(accuracy_score(Y_test, y_pred) * 100, 2)\n",
    "    results.append((name, acc))\n",
    "\n",
    "# Create a DataFrame sorted by accuracy\n",
    "results_df = pd.DataFrame(results, columns=[\"Algorithm\", \"Accuracy (%)\"])\n",
    "results_df = results_df.sort_values(by=\"Accuracy (%)\", ascending=False).reset_index(drop=True)\n",
    "print(results_df)"
   ]
  },
  {
   "cell_type": "code",
   "execution_count": 126,
   "id": "4af3a222-56e5-46c2-9134-3dbe57c59510",
   "metadata": {},
   "outputs": [
    {
     "data": {
      "image/png": "[encoded data removed]",
      "text/plain": [
       "<Figure size 1500x800 with 1 Axes>"
      ]
     },
     "metadata": {},
     "output_type": "display_data"
    }
   ],
   "source": [
    "# Set figure size\n",
    "plt.figure(figsize=(15,8))\n",
    "\n",
    "# Plot bar chart with different colors\n",
    "sns.barplot(x=\"Algorithm\", y=\"Accuracy (%)\", data=results_df, palette=\"Set2\")  # palette adds different colors\n",
    "\n",
    "# Labels and title\n",
    "plt.xlabel(\"Algorithms\")\n",
    "plt.ylabel(\"Accuracy\")\n",
    "plt.title(\"Comparison of Algorithm Accuracies\")\n",
    "plt.xticks(rotation=45)\n",
    "\n",
    "# Show plot\n",
    "plt.savefig(\"performance.png\")\n",
    "plt.show()"
   ]
  },
  {
   "cell_type": "markdown",
   "id": "cc2c6e76-2c7f-44c8-b221-7b60fcf26bb1",
   "metadata": {},
   "source": [
    "Insights:\n",
    "\n",
    "Logistic Regression gave the highest accuracy (88.52%), making it the best model for this dataset.\n",
    "\n",
    "Decision Tree performed the lowest (72.13%), possibly due to overfitting.\n",
    "\n",
    "Ensemble methods like Random Forest and XGBoost performed well but slightly lower than Logistic Regression.\n",
    "\n",
    "Simple algorithms like Naive Bayes, SVM, and KNN also gave good results (85.25%)."
   ]
  },
  {
   "cell_type": "code",
   "execution_count": null,
   "id": "22a4098b-2037-4602-bdfd-61e8e44be825",
   "metadata": {},
   "outputs": [],
   "source": []
  }
 ],
 "metadata": {
  "kernelspec": {
   "display_name": "Python 3 (ipykernel)",
   "language": "python",
   "name": "python3"
  },
  "language_info": {
   "codemirror_mode": {
    "name": "ipython",
    "version": 3
   },
   "file_extension": ".py",
   "mimetype": "text/x-python",
   "name": "python",
   "nbconvert_exporter": "python",
   "pygments_lexer": "ipython3",
   "version": "3.13.5"
  }
 },
 "nbformat": 4,
 "nbformat_minor": 5
}
